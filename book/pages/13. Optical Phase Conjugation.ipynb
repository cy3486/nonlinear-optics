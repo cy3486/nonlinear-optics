{
 "cells": [
  {
   "attachments": {},
   "cell_type": "markdown",
   "metadata": {},
   "source": [
    "# Optical Phase Conjugation\n",
    "\n",
    "**Name:**\n",
    "\n",
    "**Total Points:** --/100 pts"
   ]
  },
  {
   "cell_type": "code",
   "execution_count": null,
   "metadata": {},
   "outputs": [],
   "source": [
    "### UNCOMMENT AND RUN THIS CELL IF USING GOOGLE COLAB\n",
    "# !pip install ipympl -q\n",
    "# from google.colab import output\n",
    "# output.enable_custom_widget_manager()"
   ]
  },
  {
   "attachments": {},
   "cell_type": "markdown",
   "metadata": {},
   "source": [
    "## Description of Optical Phase Conjugation \n",
    "\n",
    "We have already seen from our study of stimulated Brillouin scattering that nonlinear processes can produce backwards waves.  Optical phase conjugation refers to cases in which those backwards wave are exact time-reversals of the original forward waves.  This is very different from a regular mirror.  For example, a beam that is focused just before a regular mirror would continue to expand after reflection, just travelling in the reverse direction.  A beam hitting a phase-conjugate mirror would re-focus back through the focal point.  How is this different from a parbolic mirror?  Well, in a parabolic mirror light doesn't retrace it's exact path, but instead bounces off the mirror twice in such a way that it's reflected path goes back through the focus, but through a different path. This is why the image is inverted.  In contrast, light hitting a phase-conjugate mirror does an exact 180$^\\circ$ turn as soon as it hits the mirror.  This way, the light beam's phase reverses at the reflection point and it traverses the same trajectory backwards.  For this reason, a phase-conjugate mirror is very useful in laser engineering, since any distortions accumulated by a forward propagating beam can be undone by travelling backward through the same abberations.\n",
    "\n",
    "Let's now describe the process mathematically.  Consider a forward propagating beam of the form\n",
    "\n",
    "$$\n",
    "\\begin{align}\n",
    "E_1(\\mathbf{r}, t) = E_1(\\mathbf{r})e^{-j\\omega t} + E_1^*(\\mathbf{r})e^{j\\omega t}\n",
    "\\end{align}\n",
    "$$\n",
    "\n",
    "All the spatial dependence is contained in $E_1(\\mathbf{r}) = \\tilde{E_1}(\\mathbf{r})\\exp(jk_1z)$.  There are four-wave mixing processes described below that produce a backward propgating beam, the conjugate wave, that are identical to $E_1(\\mathbf{r}, t)$ except that $E_1(\\mathbf{r})$ is replaced by its complex conjugate $E_1^*(\\mathbf{r})$.  This results in a conjugate wave $\\mathbf{E}_c$ of the form:\n",
    "\n",
    "$$\n",
    "\\begin{align}\n",
    "E_C(\\mathbf{r}, t) &= E_1^*(\\mathbf{r})e^{-j\\omega t} + E_1(\\mathbf{r})e^{j\\omega t}  \\\\\n",
    "                   &= \\tilde{E_1}^*(\\mathbf{r})e^{-j(\\omega t - k_1z)} + E_1(\\mathbf{r})e^{j(\\omega t + k_1z)}\n",
    "\\end{align}\n",
    "$$\n",
    "\n",
    "Mathematically, we could have made the exact same change by replacing $t$ with $-t$.  Hence we can write\n",
    "\n",
    "$$\n",
    "\\begin{align}\n",
    "E_C(\\mathbf{r}, t) = E_1(\\mathbf{r}, -t)\n",
    "\\end{align}\n",
    "$$\n",
    "\n",
    "For this reason some people call phase conjugate waves time-reversed waves."
   ]
  },
  {
   "cell_type": "markdown",
   "metadata": {},
   "source": [
    "## Phase Conjugation by 4-wave mixing\n",
    "\n",
    "Consider the three propagating waves $E_1, E_2$, and $E_3$ with the same frequency $\\omega$ that combine via a third-order nonlinearity to produce a fourth wave.  \n",
    "\n",
    "We would like to have two conditions fulfilled:\n",
    "1. The fourth wave propagates in the opposite direction of $E_1$.  This means that waves $E_2$ and $E_3$ will be counterpropagating relative to each other (why? think about phase matching and conservation of momentum). \n",
    "2. The fourth wave will be the same frequency as the $E_1$.  By energy conservation, this means that our energy level diagram will involve absorbing two photons at $\\omega$, and then emitting two photons at $\\omega$, one by stimulated emission and one by spontaneous emission.\n",
    "\n",
    "We could use sympy to search for a combination that makes this work:\n"
   ]
  },
  {
   "cell_type": "code",
   "execution_count": null,
   "metadata": {},
   "outputs": [],
   "source": [
    "from sympy import *\n",
    "E1, E2, E3 = symbols('E_1, E_2, E_3')\n",
    "E_cubed = (E1 + E2 + E3 + conjugate(E1) + conjugate(E2) + conjugate(E3))**3\n",
    "E_cubed.expand()"
   ]
  },
  {
   "attachments": {},
   "cell_type": "markdown",
   "metadata": {},
   "source": [
    "But that's a lot of terms to search through.  A little intuition tells us that it must be the term  $6E_2E_3E_1^*$. This is the only one that fulfulls our requirements.  The k-vectors $k_2$ and $k_3$ are opposites, so the product $E_2 E_3$ cancels them out.  This leaves only the k-vector from $E_1^*$, which points opposite to the incident wave $E_1$ just like we wanted.  Also, the product $E_2E_3E_1^*$ oscillates at frequency $\\omega$, just like we wanted.\n",
    "\n",
    "We can therefore write the nonlinear polarization that will be the antenna for our fourth wave as\n",
    "\n",
    "$$\n",
    "\\begin{align}\n",
    "P_4^{(NL)} = 6\\epsilon_0\\chi^{(3)}(\\omega; \\omega, -\\omega, \\omega)E_2(\\mathbf{r})E_3(\\mathbf{r})E_1^*(\\mathbf{r})\n",
    "\\end{align}\n",
    "$$"
   ]
  },
  {
   "cell_type": "markdown",
   "metadata": {},
   "source": [
    "A picture can help us get a better understanding of how optical phase conjugation works.\n",
    "\n",
    "![phase_conjugation.png](../images/phase_conjugation.png?raw=true)"
   ]
  },
  {
   "cell_type": "markdown",
   "metadata": {},
   "source": [
    "On the left is the geometric representation of the three incident waves used to produce a fourth beam that is phase-conjugated from the first.  $k_2$ and $k_3$ must be equal and opposite to ensure phase matching.  On the right is the energy picture, showing photons from fields 2 and 3 being absorbed, while photons from fields 1 and 4 are emitted.  This also clearly shows that the energy for the conjugate wave is coming from waves 2 and 3, while wave 1 simply stimulates emission of a photon with the correct energy and wavevector.\n"
   ]
  },
  {
   "cell_type": "markdown",
   "metadata": {},
   "source": [
    "## Real-Time Holography--phase conjugation by another name\n",
    "\n",
    "The process of optical phase conjugation turns out to be identical with holography.  Let's re-describe the process using hologrophy terms.  Suppose we have an image carred in some field $E_1$ whose amplitude and phase we would like to store in a material for later retrieval.  To store the image, we shine a reference beam $E_2$ on a holographic plate at the same time as the image.  The fields $E_2$ and $E_3$ interfere to write a grating on the holographic plate, which encodes the amplitude and phase of the interference pattern.  At some later time, we illuminate the grating with $E_3$, which is just a copy of the reference beam pointing in the opposite direction.  The field $E_3$ scatters from the grating to produce the original image, but in the opposite direction.\n",
    "\n",
    "The difference with optical phase-conjugation, of course, is that the grating is written in real time, nearly instaneously in fact.  The form of the grating is in fact just a polarization wave (electrons separated from their nuclei) that results from fields $E_2$ and $E_3$.  \n",
    "\n",
    "It turns out that the same real-time holography process can also be achieved by setting up an acoustic wave grating that the stores the phase and amplitude of two interfering beams.  In fact, this is exactly what happens in stimulated Brillouin Scattering!  The backward propogating wave is a phase conjugate wave.  However, there is a small caveat, since the stokes wave is shifted in frequency relative to the incident beam.  That means that it's not *exactly* the same and abberations will only be corrected for a limited path length.  Since the incident frequency and the conjugate wave frequency differ by about 1 part in 20,000, for a laser with a wavelenght of 1 $\\mu$m, no serious mismatch will occur for approximately 20 mm.  "
   ]
  },
  {
   "attachments": {},
   "cell_type": "markdown",
   "metadata": {},
   "source": [
    "## Exercises\n",
    "\n",
    "1. (100 pts) Several applications of optical phase conjugation exist, including image distortion correction, optical lithography, and optical computing using real-time holography.  Write a paragraph about one application and include a link to a paper.  Make a quantitative statment about the limitations of using optical phase conjugation for this application (e.g. is the limitation they mention theoretical, experimental, or introduces additional complexities?  Can you use numbers to explain the limitations?)."
   ]
  },
  {
   "cell_type": "markdown",
   "metadata": {},
   "source": []
  }
 ],
 "metadata": {
  "kernelspec": {
   "display_name": "Python 3.10.8 ('nonlinoptics')",
   "language": "python",
   "name": "python3"
  },
  "language_info": {
   "codemirror_mode": {
    "name": "ipython",
    "version": 3
   },
   "file_extension": ".py",
   "mimetype": "text/x-python",
   "name": "python",
   "nbconvert_exporter": "python",
   "pygments_lexer": "ipython3",
   "version": "3.10.8"
  },
  "vscode": {
   "interpreter": {
    "hash": "32cef8dac44ce10285751f87f400ad1c7333d839691ab02151c07fc201603a42"
   }
  }
 },
 "nbformat": 4,
 "nbformat_minor": 4
}
